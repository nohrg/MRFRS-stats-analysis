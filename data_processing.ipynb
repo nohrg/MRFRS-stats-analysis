{
 "cells": [
  {
   "cell_type": "code",
   "execution_count": 18,
   "id": "ab9edf99",
   "metadata": {},
   "outputs": [],
   "source": [
    "import pandas as pd"
   ]
  },
  {
   "cell_type": "markdown",
   "id": "b332378e",
   "metadata": {},
   "source": [
    "# Data Processing"
   ]
  },
  {
   "cell_type": "code",
   "execution_count": 19,
   "id": "9af0e868",
   "metadata": {},
   "outputs": [],
   "source": [
    "folder = \"/Users/noahrae-grant/nohrg/MRFRS-stats-analysis/data/raw/\"\n",
    "intake = pd.read_excel(folder + \"intake.xlsx\")\n",
    "outcome = pd.read_excel(folder + \"outcome.xlsx\")"
   ]
  },
  {
   "cell_type": "code",
   "execution_count": 20,
   "id": "7bcc5ded",
   "metadata": {},
   "outputs": [
    {
     "data": {
      "text/plain": [
       "Index(['Intake Date', 'Animal ID', 'Animal Name', 'Species', 'Primary Breed',\n",
       "       'Secondary Breed', 'Sex', 'Altered', 'Intake Type', 'Intake Sub-type',\n",
       "       'Intake By', 'Intake From (ID)', 'Intake From Name'],\n",
       "      dtype='object')"
      ]
     },
     "execution_count": 20,
     "metadata": {},
     "output_type": "execute_result"
    }
   ],
   "source": [
    "intake.columns"
   ]
  },
  {
   "cell_type": "code",
   "execution_count": 21,
   "id": "a88c1002",
   "metadata": {},
   "outputs": [],
   "source": [
    "intake = intake.rename(columns={\"Altered\":\"Altered-Intake\", \"Animal Name\":\"Name\"})"
   ]
  },
  {
   "cell_type": "code",
   "execution_count": 22,
   "id": "05beed5a",
   "metadata": {},
   "outputs": [
    {
     "data": {
      "text/plain": [
       "Index(['Outcome Date', 'Outcome Time', 'Animal ID', 'Name', 'Species',\n",
       "       'Primary Breed', 'Secondary Breed', 'Sex', 'Altered', 'Intake Type',\n",
       "       'Outcome Type', 'Outcome Sub-type', 'Outcome To (ID)',\n",
       "       'Outcome To Name', 'Outcome By'],\n",
       "      dtype='object')"
      ]
     },
     "execution_count": 22,
     "metadata": {},
     "output_type": "execute_result"
    }
   ],
   "source": [
    "outcome.columns"
   ]
  },
  {
   "cell_type": "code",
   "execution_count": 23,
   "id": "4ae105c0",
   "metadata": {},
   "outputs": [],
   "source": [
    "outcome = outcome.rename(columns={\"Altered\":\"Altered-Outcome\"})"
   ]
  },
  {
   "cell_type": "markdown",
   "id": "22b1466b",
   "metadata": {},
   "source": [
    "Lots of shared columns, so I was easily able to merge intake, outcome, and length of stay data."
   ]
  },
  {
   "cell_type": "code",
   "execution_count": 24,
   "id": "54990ebf",
   "metadata": {},
   "outputs": [],
   "source": [
    "cat_data = intake.merge(outcome, on=[\"Animal ID\", \"Name\", 'Species',\n",
    "       'Primary Breed', 'Secondary Breed', 'Sex', \"Intake Type\"])"
   ]
  },
  {
   "cell_type": "code",
   "execution_count": 25,
   "id": "12386182",
   "metadata": {},
   "outputs": [],
   "source": [
    "lengthofstay = pd.read_excel(folder + \"lengthofstay.xlsx\")"
   ]
  },
  {
   "cell_type": "code",
   "execution_count": 26,
   "id": "aad14d22",
   "metadata": {},
   "outputs": [
    {
     "data": {
      "text/plain": [
       "Index(['Animal ID', 'Animal Name', 'Species', 'Primary Breed',\n",
       "       'Secondary Breed', 'Date of Birth', 'Age Group at Intake',\n",
       "       'Current Status', 'Current Location', 'Intake Date', 'Intake Type',\n",
       "       'Outcome Date', 'Outcome Type', 'Days in Custody', 'Days Onsite',\n",
       "       'Days Available'],\n",
       "      dtype='object')"
      ]
     },
     "execution_count": 26,
     "metadata": {},
     "output_type": "execute_result"
    }
   ],
   "source": [
    "lengthofstay.columns"
   ]
  },
  {
   "cell_type": "markdown",
   "id": "dab7046a",
   "metadata": {},
   "source": [
    "I wanted to add columns for additional types of days. Cats in custody but not onsite are in foster. Cats onsite but not available are typically getting medical care or are in quarantine."
   ]
  },
  {
   "cell_type": "code",
   "execution_count": 27,
   "id": "d80405f9",
   "metadata": {},
   "outputs": [],
   "source": [
    "lengthofstay = lengthofstay.rename(columns={\"Animal Name\": \"Name\"})\n",
    "lengthofstay[\"Days in Foster\"] = (lengthofstay[\"Days in Custody\"] \n",
    "                                  - lengthofstay[\"Days Onsite\"])\n",
    "lengthofstay[\"Days Medical Care\"] = (lengthofstay[\"Days Onsite\"] \n",
    "                                     - lengthofstay[\"Days Available\"])"
   ]
  },
  {
   "cell_type": "code",
   "execution_count": 28,
   "id": "734c25e7",
   "metadata": {},
   "outputs": [
    {
     "data": {
      "text/plain": [
       "array(['Kitten (0 weeks-1 years)', 'Adult Cat (1-10 years)',\n",
       "       'Senior Cat (10+ years)', 'Adult Dog (5+ months)'], dtype=object)"
      ]
     },
     "execution_count": 28,
     "metadata": {},
     "output_type": "execute_result"
    }
   ],
   "source": [
    "lengthofstay[\"Age Group at Intake\"].unique()"
   ]
  },
  {
   "cell_type": "code",
   "execution_count": 29,
   "id": "1e388afc",
   "metadata": {},
   "outputs": [],
   "source": [
    "def age_category(elem):\n",
    "    # Shortening the age categories\n",
    "    # there is one dog in this data, from a community euthanasia\n",
    "    # but that dog is not in the intake/outcome data\n",
    "    # and could be ignored\n",
    "    if elem == 'Kitten (0 weeks-1 years)':\n",
    "        return \"Kitten\"\n",
    "    if elem == \"Adult Cat (1-10 years)\":\n",
    "        return \"Adult\"\n",
    "    if elem == \"Senior Cat (10+ years)\":\n",
    "        return \"Senior\"\n",
    "\n",
    "lengthofstay[\"Age Group at Intake\"] = lengthofstay[\"Age Group at Intake\"].apply(age_category)"
   ]
  },
  {
   "cell_type": "code",
   "execution_count": 30,
   "id": "1b3bcd0c",
   "metadata": {},
   "outputs": [],
   "source": [
    "cat_data = cat_data.merge(lengthofstay, on=[\"Animal ID\", \"Name\", \n",
    "                                            \"Species\", 'Primary Breed',\n",
    "                                            'Secondary Breed', 'Intake Date', \n",
    "                                            'Intake Type', 'Outcome Date', \n",
    "                                            'Outcome Type'])"
   ]
  },
  {
   "cell_type": "code",
   "execution_count": 31,
   "id": "33583cef",
   "metadata": {},
   "outputs": [
    {
     "data": {
      "text/plain": [
       "Index(['Intake Date', 'Animal ID', 'Name', 'Species', 'Primary Breed',\n",
       "       'Secondary Breed', 'Sex', 'Altered-Intake', 'Intake Type',\n",
       "       'Intake Sub-type', 'Intake By', 'Intake From (ID)', 'Intake From Name',\n",
       "       'Outcome Date', 'Outcome Time', 'Altered-Outcome', 'Outcome Type',\n",
       "       'Outcome Sub-type', 'Outcome To (ID)', 'Outcome To Name', 'Outcome By',\n",
       "       'Date of Birth', 'Age Group at Intake', 'Current Status',\n",
       "       'Current Location', 'Days in Custody', 'Days Onsite', 'Days Available',\n",
       "       'Days in Foster', 'Days Medical Care'],\n",
       "      dtype='object')"
      ]
     },
     "execution_count": 31,
     "metadata": {},
     "output_type": "execute_result"
    }
   ],
   "source": [
    "cat_data.columns"
   ]
  },
  {
   "cell_type": "code",
   "execution_count": 32,
   "id": "8a9dd4ca",
   "metadata": {},
   "outputs": [],
   "source": [
    "# unnecessary columns: all animals are cats, and there are no \"secondary breeds\"\n",
    "cat_data = cat_data.drop(columns=[\"Species\", \"Secondary Breed\"])"
   ]
  },
  {
   "cell_type": "code",
   "execution_count": 33,
   "id": "f3b3d9cf",
   "metadata": {},
   "outputs": [],
   "source": [
    "hardtoplace = pd.read_excel(folder + \"hardtoplace.xlsx\")"
   ]
  },
  {
   "cell_type": "code",
   "execution_count": 34,
   "id": "2009c165",
   "metadata": {},
   "outputs": [
    {
     "data": {
      "text/plain": [
       "Index(['Animal ID', 'Name', 'Attributes', 'Outcome Date', 'Outcome Type'], dtype='object')"
      ]
     },
     "execution_count": 34,
     "metadata": {},
     "output_type": "execute_result"
    }
   ],
   "source": [
    "hardtoplace.columns"
   ]
  },
  {
   "cell_type": "code",
   "execution_count": 35,
   "id": "e17ed18a",
   "metadata": {},
   "outputs": [],
   "source": [
    "# is a string-list rather than a list-list\n",
    "hardtoplace[\"Attributes\"] = hardtoplace[\"Attributes\"].str.split(\", \")"
   ]
  },
  {
   "cell_type": "code",
   "execution_count": 36,
   "id": "354a6dd1",
   "metadata": {},
   "outputs": [],
   "source": [
    "# separating out issues individually\n",
    "hardtoplace = hardtoplace.explode(\"Attributes\")"
   ]
  },
  {
   "cell_type": "code",
   "execution_count": 37,
   "id": "a26a6964",
   "metadata": {},
   "outputs": [],
   "source": [
    "# every cat has this one\n",
    "hardtoplace = hardtoplace[(hardtoplace[\"Attributes\"] \n",
    "                           != \"Standard Adoption Disclaimer\")].copy()"
   ]
  },
  {
   "cell_type": "code",
   "execution_count": 38,
   "id": "02103b1c",
   "metadata": {},
   "outputs": [],
   "source": [
    "def attribute_category(elem):\n",
    "    # I pulled the list of unique attributes and split with domain knowledge\n",
    "    medical = ['Diabetic', 'Heart murmur', 'Polydactyl', 'FIV+', 'FLUTD', \n",
    "           'Prescription diet- adopter obtaining themselves', \n",
    "           'Chronic constipation', 'FeLV Regressive', \n",
    "           'Musculoskeletal abnormality', 'Care for Life Agreement', \n",
    "           'Heart disease / HCM', 'Dental disease- moderate', \n",
    "           'Prescription diet- being provided by shelter', \n",
    "           'Dental disease- mild', 'FeLV+', 'IBD', 'Skin allergy',  \n",
    "           'Heart murmur with proBNP', 'Dental disease- stomatitis', \n",
    "           'Hyperthyroid', 'FeLV Discordant', 'Chronic kidney disease', \n",
    "           'Chronic Condition Support', 'Kitten Rabies Disclaimer', \n",
    "           'URI- chronic', 'Dental disease- severe', 'Epilepsy/seizure disorder', \n",
    "           'Cerebellar hypoplasia', 'Asthma']\n",
    "\n",
    "    behavioral = ['Bonded', 'Undersocialized', 'Overstimulation', 'Housesoiling', \n",
    "                'Barn Cat', 'Media', 'Best without other cats', 'Best without kids', \n",
    "                'High energy', 'Best without dogs']\n",
    "\n",
    "    both = [\"Declawed\"]\n",
    "\n",
    "    if elem in medical:\n",
    "        return \"Medical\"\n",
    "    elif elem in behavioral:\n",
    "        return \"Behavioral\"\n",
    "    elif elem in both:\n",
    "        return \"Both\""
   ]
  },
  {
   "cell_type": "code",
   "execution_count": 39,
   "id": "297e25fa",
   "metadata": {},
   "outputs": [],
   "source": [
    "hardtoplace['Type'] = hardtoplace[\"Attributes\"].apply(attribute_category)"
   ]
  },
  {
   "cell_type": "code",
   "execution_count": 40,
   "id": "a7dfac8f",
   "metadata": {},
   "outputs": [],
   "source": [
    "# Noting if a cat has one of the \"hard to place\" issues or not\n",
    "cat_data[\"Hard to Place\"] = cat_data[\"Animal ID\"].isin(\n",
    "    hardtoplace[\"Animal ID\"].unique().tolist()\n",
    "    )"
   ]
  },
  {
   "cell_type": "code",
   "execution_count": 41,
   "id": "66445384",
   "metadata": {},
   "outputs": [],
   "source": [
    "# personal preference on data format\n",
    "cat_data[\"Hard to Place\"] = cat_data[\"Hard to Place\"].replace(\n",
    "    {True:\"Yes\", False:\"No\"}\n",
    "    )"
   ]
  },
  {
   "cell_type": "code",
   "execution_count": 42,
   "id": "2a7f0dee",
   "metadata": {},
   "outputs": [],
   "source": [
    "adopter = pd.read_excel(folder + \"adopter.xlsx\")"
   ]
  },
  {
   "cell_type": "code",
   "execution_count": 43,
   "id": "99b7f7ba",
   "metadata": {},
   "outputs": [
    {
     "data": {
      "text/plain": [
       "Index(['Date Of Adoption', 'Animal ID', 'Animal Name', 'Species',\n",
       "       'Primary Breed', 'Sex', 'Altered', 'Est. Birthdate', 'Microchip Number',\n",
       "       'By (User)', 'Outcome Subtype', 'Adopter ID', 'Adopter Name',\n",
       "       'Primary Phone', 'Primary Email', 'Street Address', 'Unit', 'City',\n",
       "       'State', 'Zip'],\n",
       "      dtype='object')"
      ]
     },
     "execution_count": 43,
     "metadata": {},
     "output_type": "execute_result"
    }
   ],
   "source": [
    "adopter.columns"
   ]
  },
  {
   "cell_type": "markdown",
   "id": "b15ab7bd",
   "metadata": {},
   "source": [
    "I needed to drop identifying information from the adoption data"
   ]
  },
  {
   "cell_type": "code",
   "execution_count": 44,
   "id": "29b5571e",
   "metadata": {},
   "outputs": [],
   "source": [
    "adopter = adopter.drop(columns=[\"Adopter Name\", 'Primary Phone', \n",
    "                                'Primary Email', 'Street Address', 'Unit'])"
   ]
  },
  {
   "cell_type": "code",
   "execution_count": 45,
   "id": "3095dafa",
   "metadata": {},
   "outputs": [],
   "source": [
    "savepath = \"/Users/noahrae-grant/nohrg/MRFRS-stats-analysis/data/clean/\"\n",
    "cat_data.to_csv(savepath + \"catdata.csv\")\n",
    "hardtoplace.to_csv(savepath + \"hardtoplace.csv\")\n",
    "adopter.to_csv(savepath + \"adopter.csv\")"
   ]
  }
 ],
 "metadata": {
  "kernelspec": {
   "display_name": "Python 3",
   "language": "python",
   "name": "python3"
  },
  "language_info": {
   "codemirror_mode": {
    "name": "ipython",
    "version": 3
   },
   "file_extension": ".py",
   "mimetype": "text/x-python",
   "name": "python",
   "nbconvert_exporter": "python",
   "pygments_lexer": "ipython3",
   "version": "3.13.0"
  }
 },
 "nbformat": 4,
 "nbformat_minor": 5
}
